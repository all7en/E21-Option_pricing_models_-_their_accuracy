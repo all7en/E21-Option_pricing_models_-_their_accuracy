{
 "cells": [
  {
   "cell_type": "code",
   "execution_count": 14,
   "id": "cc18edf6",
   "metadata": {},
   "outputs": [],
   "source": [
    "import numpy as np\n",
    "import pandas as pd\n",
    "from scipy.stats import norm\n",
    "N = norm.cdf"
   ]
  },
  {
   "cell_type": "code",
   "execution_count": 15,
   "id": "5aa5ed89",
   "metadata": {
    "scrolled": false
   },
   "outputs": [],
   "source": [
    "options_data1 =pd.read_csv('optiondata_31AUG.csv')\n",
    "options_data2 =pd.read_csv('optiondata_07SEP.csv')"
   ]
  },
  {
   "cell_type": "code",
   "execution_count": 16,
   "id": "7468d569",
   "metadata": {},
   "outputs": [],
   "source": [
    "S = 19265.8      #Current Nifty 50 Index value (as of 27th August)\n",
    "T1 = 4/252       #Time to expire for the case of options expiring on 31 August \n",
    "T2 = 9/252       #Time to expire for the case of options expiring on 07 September\n",
    "r = 0.1          #Risk-free rate"
   ]
  },
  {
   "cell_type": "code",
   "execution_count": 17,
   "id": "4f552f33",
   "metadata": {},
   "outputs": [],
   "source": [
    "#Black Scholes model calculations for Call options\n",
    "def black_scholes_call(S, K, T, r, sigma):\n",
    "    d1 = (np.log(S/K) + (r + 0.5 * sigma**2) * T) / (sigma * np.sqrt(T))\n",
    "    d2 = d1 - sigma * np.sqrt(T)\n",
    "    return S * N(d1) - K * np.exp(-r*T)* N(d2)\n",
    "\n",
    "#Black Scholes model calculations for Put options\n",
    "def black_scholes_put(S, K, T, r, sigma):\n",
    "    d1 = (np.log(S/K) + (r + 0.5 * sigma**2) * T) / (sigma * np.sqrt(T))\n",
    "    d2 = d1 - sigma * np.sqrt(T)\n",
    "    return K * np.exp(-r * T) * N(-d2) - S * N(-d1)"
   ]
  },
  {
   "cell_type": "code",
   "execution_count": 18,
   "id": "1c16ef87",
   "metadata": {},
   "outputs": [],
   "source": [
    "#Predicting the Call option values for 31 August expiry options\n",
    "options_data1['Predicted CALL'] = options_data1.apply(lambda row: black_scholes_call(S, row['STRIKE'], T1, r, row['IVcall']/100), axis=1)\n",
    "\n",
    "#Predicting the Put option values for 31 August expiry options\n",
    "options_data1['Predicted PUT'] = options_data1.apply(lambda row: black_scholes_put(S, row['STRIKE'], T1, r, row['IVput']/100), axis=1)"
   ]
  },
  {
   "cell_type": "code",
   "execution_count": 21,
   "id": "2d84c852",
   "metadata": {},
   "outputs": [],
   "source": [
    "#Predicting the Call option values for 07 September expiry options\n",
    "options_data2['Predicted CALL'] = options_data2.apply(lambda row: black_scholes_call(S, row['STRIKE'], T2, r, row['IVcall']/100), axis=1)\n",
    "\n",
    "#Predicting the Put option values for 07 September expiry options\n",
    "options_data2['Predicted PUT'] = options_data2.apply(lambda row: black_scholes_put(S, row['STRIKE'], T2, r, row['IVput']/100), axis=1)"
   ]
  },
  {
   "cell_type": "code",
   "execution_count": 23,
   "id": "3896ea44",
   "metadata": {},
   "outputs": [],
   "source": [
    "#print(options_data1)\n",
    "#print(options_data2)"
   ]
  },
  {
   "cell_type": "code",
   "execution_count": 8,
   "id": "a2b32dc5",
   "metadata": {},
   "outputs": [],
   "source": [
    "#Calculating Mean Absolute Percentage Error of 31 August Call options\n",
    "options_data1['MAPE CALL'] = abs((options_data1['CALL'] - options_data1['Predicted CALL'])/options_data1['CALL']) * 100\n",
    "mapecall1 = options_data1['MAPE CALL'].mean()\n",
    "\n",
    "#Calculating Mean Absolute Percentage Error of 31 August Put options\n",
    "options_data1['MAPE PUT'] = abs((options_data1['PUT'] - options_data1['Predicted PUT'])/options_data1['PUT']) * 100\n",
    "mapeput1 = options_data1['MAPE PUT'].mean()\n",
    "\n",
    "#Calculating Total Mean Absolute Percentage Error of 31 August options\n",
    "mape1 = (mapecall1 + mapeput1)/2"
   ]
  },
  {
   "cell_type": "code",
   "execution_count": 9,
   "id": "1aeedf47",
   "metadata": {},
   "outputs": [],
   "source": [
    "#Calculating Mean Absolute Percentage Error of 07 September Call options\n",
    "options_data2['MAPE CALL'] = abs((options_data2['CALL'] - options_data2['Predicted CALL'])/options_data2['CALL']) * 100\n",
    "mapecall2 = options_data2['MAPE CALL'].mean()\n",
    "\n",
    "#Calculating Mean Absolute Percentage Error of 07 September Put options\n",
    "options_data2['MAPE PUT'] = abs((options_data2['PUT'] - options_data2['Predicted PUT'])/options_data2['PUT']) * 100\n",
    "mapeput2 = options_data2['MAPE PUT'].mean()\n",
    "\n",
    "#Calculating Total Mean Absolute Percentage Error of 07 September options\n",
    "mape2 = (mapecall2 + mapeput2)/2"
   ]
  },
  {
   "cell_type": "code",
   "execution_count": 24,
   "id": "87d35f14",
   "metadata": {},
   "outputs": [
    {
     "name": "stdout",
     "output_type": "stream",
     "text": [
      "Final Accuracy of the Black Scholes Model: 97.24%\n"
     ]
    }
   ],
   "source": [
    "#Taking weighted mean of total error of both the datasets\n",
    "final_p_error = (options_data1['STRIKE'].count()*mape1 + options_data2['STRIKE'].count()*mape2)/(options_data1['STRIKE'].count() + options_data2['STRIKE'].count())\n",
    "\n",
    "#Final Accuracy of the implemented Black Scholes Model\n",
    "final_p_accuracy = 100 - final_p_error\n",
    "print('Final Accuracy of the Black Scholes Model: {:.2f}%'.format(final_p_accuracy))"
   ]
  },
  {
   "cell_type": "markdown",
   "id": "a0193211",
   "metadata": {},
   "source": [
    "THANK YOU!!!"
   ]
  }
 ],
 "metadata": {
  "kernelspec": {
   "display_name": "Python 3 (ipykernel)",
   "language": "python",
   "name": "python3"
  },
  "language_info": {
   "codemirror_mode": {
    "name": "ipython",
    "version": 3
   },
   "file_extension": ".py",
   "mimetype": "text/x-python",
   "name": "python",
   "nbconvert_exporter": "python",
   "pygments_lexer": "ipython3",
   "version": "3.10.9"
  }
 },
 "nbformat": 4,
 "nbformat_minor": 5
}
